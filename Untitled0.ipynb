{
  "nbformat": 4,
  "nbformat_minor": 0,
  "metadata": {
    "colab": {
      "provenance": [],
      "authorship_tag": "ABX9TyP3eUcGScjrgvgHta8shyuE",
      "include_colab_link": true
    },
    "kernelspec": {
      "name": "python3",
      "display_name": "Python 3"
    },
    "language_info": {
      "name": "python"
    }
  },
  "cells": [
    {
      "cell_type": "markdown",
      "metadata": {
        "id": "view-in-github",
        "colab_type": "text"
      },
      "source": [
        "<a href=\"https://colab.research.google.com/github/bhavanapagadala/AI-Agent/blob/main/Untitled0.ipynb\" target=\"_parent\"><img src=\"https://colab.research.google.com/assets/colab-badge.svg\" alt=\"Open In Colab\"/></a>"
      ]
    },
    {
      "cell_type": "code",
      "execution_count": 4,
      "metadata": {
        "colab": {
          "base_uri": "https://localhost:8080/"
        },
        "id": "GEJRxt2Lpelv",
        "outputId": "a2368060-7cf5-4e78-e827-fcf9261d9d1b"
      },
      "outputs": [
        {
          "output_type": "stream",
          "name": "stdout",
          "text": [
            "Accuracy: 0.9919282511210762\n",
            "\n",
            "Classification Report:\n",
            "               precision    recall  f1-score   support\n",
            "\n",
            "           0       0.99      1.00      1.00       966\n",
            "           1       1.00      0.94      0.97       149\n",
            "\n",
            "    accuracy                           0.99      1115\n",
            "   macro avg       1.00      0.97      0.98      1115\n",
            "weighted avg       0.99      0.99      0.99      1115\n",
            "\n",
            "\n",
            "Test your own message:\n",
            "Enter a message to classify: \"Congratulations! You won a $1000 Walmart gift card. Click here to claim now.\"\n",
            "Prediction: Spam\n"
          ]
        }
      ],
      "source": [
        "# Step 1: Import libraries\n",
        "import pandas as pd\n",
        "from sklearn.model_selection import train_test_split\n",
        "from sklearn.feature_extraction.text import CountVectorizer\n",
        "from sklearn.naive_bayes import MultinomialNB\n",
        "from sklearn.metrics import accuracy_score, classification_report\n",
        "\n",
        "# Step 2: Download and load the dataset\n",
        "!wget -q https://raw.githubusercontent.com/justmarkham/pycon-2016-tutorial/master/data/sms.tsv\n",
        "\n",
        "# Load dataset (tab-separated)\n",
        "df = pd.read_csv('sms.tsv', sep='\\t', header=None, names=['label', 'message'])\n",
        "\n",
        "# Step 3: Prepare data\n",
        "df['label_num'] = df.label.map({'ham':0, 'spam':1})\n",
        "\n",
        "X = df['message']\n",
        "y = df['label_num']\n",
        "\n",
        "# Split into training and test sets\n",
        "X_train, X_test, y_train, y_test = train_test_split(X, y, test_size=0.2, random_state=42)\n",
        "\n",
        "# Step 4: Text vectorization\n",
        "vectorizer = CountVectorizer()\n",
        "X_train_counts = vectorizer.fit_transform(X_train)\n",
        "X_test_counts = vectorizer.transform(X_test)\n",
        "\n",
        "# Step 5: Train Naive Bayes classifier\n",
        "clf = MultinomialNB()\n",
        "clf.fit(X_train_counts, y_train)\n",
        "\n",
        "# Step 6: Predict and evaluate\n",
        "y_pred = clf.predict(X_test_counts)\n",
        "print(\"Accuracy:\", accuracy_score(y_test, y_pred))\n",
        "print(\"\\nClassification Report:\\n\", classification_report(y_test, y_pred))\n",
        "\n",
        "# Step 7: Test your own message\n",
        "def predict_spam(message):\n",
        "    message_vec = vectorizer.transform([message])\n",
        "    pred = clf.predict(message_vec)[0]\n",
        "    return \"Spam\" if pred == 1 else \"Not Spam\"\n",
        "\n",
        "# Example\n",
        "print(\"\\nTest your own message:\")\n",
        "test_message = input(\"Enter a message to classify: \")\n",
        "print(\"Prediction:\", predict_spam(test_message))\n"
      ]
    }
  ]
}