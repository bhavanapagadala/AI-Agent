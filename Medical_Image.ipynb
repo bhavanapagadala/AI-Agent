{
  "nbformat": 4,
  "nbformat_minor": 0,
  "metadata": {
    "colab": {
      "provenance": [],
      "include_colab_link": true
    },
    "kernelspec": {
      "name": "python3",
      "display_name": "Python 3"
    },
    "language_info": {
      "name": "python"
    }
  },
  "cells": [
    {
      "cell_type": "markdown",
      "metadata": {
        "id": "view-in-github",
        "colab_type": "text"
      },
      "source": [
        "<a href=\"https://colab.research.google.com/github/bhavanapagadala/AI-Agent/blob/main/Medical_Image.ipynb\" target=\"_parent\"><img src=\"https://colab.research.google.com/assets/colab-badge.svg\" alt=\"Open In Colab\"/></a>"
      ]
    },
    {
      "cell_type": "markdown",
      "source": [
        "# Medical Image"
      ],
      "metadata": {
        "id": "F2F0WCiZajzw"
      }
    },
    {
      "cell_type": "code",
      "source": [
        "!pip install agno\n",
        "!pip install duckduckgo-search\n",
        "!pip install pillow\n",
        "!pip install gradio"
      ],
      "metadata": {
        "colab": {
          "base_uri": "https://localhost:8080/"
        },
        "id": "Jzd0zef8apUp",
        "outputId": "2e66205c-9f02-4919-d79f-c2d1b0487694"
      },
      "execution_count": 1,
      "outputs": [
        {
          "output_type": "stream",
          "name": "stdout",
          "text": [
            "Collecting agno\n",
            "  Downloading agno-1.7.6-py3-none-any.whl.metadata (44 kB)\n",
            "\u001b[?25l     \u001b[90m━━━━━━━━━━━━━━━━━━━━━━━━━━━━━━━━━━━━━━━━\u001b[0m \u001b[32m0.0/44.2 kB\u001b[0m \u001b[31m?\u001b[0m eta \u001b[36m-:--:--\u001b[0m\r\u001b[2K     \u001b[90m━━━━━━━━━━━━━━━━━━━━━━━━━━━━━━━━━━━━━━━━\u001b[0m \u001b[32m44.2/44.2 kB\u001b[0m \u001b[31m3.2 MB/s\u001b[0m eta \u001b[36m0:00:00\u001b[0m\n",
            "\u001b[?25hRequirement already satisfied: docstring-parser in /usr/local/lib/python3.11/dist-packages (from agno) (0.17.0)\n",
            "Requirement already satisfied: gitpython in /usr/local/lib/python3.11/dist-packages (from agno) (3.1.45)\n",
            "Requirement already satisfied: httpx in /usr/local/lib/python3.11/dist-packages (from agno) (0.28.1)\n",
            "Collecting pydantic-settings (from agno)\n",
            "  Downloading pydantic_settings-2.10.1-py3-none-any.whl.metadata (3.4 kB)\n",
            "Requirement already satisfied: pydantic in /usr/local/lib/python3.11/dist-packages (from agno) (2.11.7)\n",
            "Collecting python-dotenv (from agno)\n",
            "  Downloading python_dotenv-1.1.1-py3-none-any.whl.metadata (24 kB)\n",
            "Requirement already satisfied: python-multipart in /usr/local/lib/python3.11/dist-packages (from agno) (0.0.20)\n",
            "Requirement already satisfied: pyyaml in /usr/local/lib/python3.11/dist-packages (from agno) (6.0.2)\n",
            "Requirement already satisfied: rich in /usr/local/lib/python3.11/dist-packages (from agno) (13.9.4)\n",
            "Collecting tomli (from agno)\n",
            "  Downloading tomli-2.2.1-cp311-cp311-manylinux_2_17_x86_64.manylinux2014_x86_64.whl.metadata (11 kB)\n",
            "Requirement already satisfied: typer in /usr/local/lib/python3.11/dist-packages (from agno) (0.16.0)\n",
            "Requirement already satisfied: typing-extensions in /usr/local/lib/python3.11/dist-packages (from agno) (4.14.1)\n",
            "Requirement already satisfied: gitdb<5,>=4.0.1 in /usr/local/lib/python3.11/dist-packages (from gitpython->agno) (4.0.12)\n",
            "Requirement already satisfied: anyio in /usr/local/lib/python3.11/dist-packages (from httpx->agno) (4.9.0)\n",
            "Requirement already satisfied: certifi in /usr/local/lib/python3.11/dist-packages (from httpx->agno) (2025.7.14)\n",
            "Requirement already satisfied: httpcore==1.* in /usr/local/lib/python3.11/dist-packages (from httpx->agno) (1.0.9)\n",
            "Requirement already satisfied: idna in /usr/local/lib/python3.11/dist-packages (from httpx->agno) (3.10)\n",
            "Requirement already satisfied: h11>=0.16 in /usr/local/lib/python3.11/dist-packages (from httpcore==1.*->httpx->agno) (0.16.0)\n",
            "Requirement already satisfied: annotated-types>=0.6.0 in /usr/local/lib/python3.11/dist-packages (from pydantic->agno) (0.7.0)\n",
            "Requirement already satisfied: pydantic-core==2.33.2 in /usr/local/lib/python3.11/dist-packages (from pydantic->agno) (2.33.2)\n",
            "Requirement already satisfied: typing-inspection>=0.4.0 in /usr/local/lib/python3.11/dist-packages (from pydantic->agno) (0.4.1)\n",
            "Requirement already satisfied: markdown-it-py>=2.2.0 in /usr/local/lib/python3.11/dist-packages (from rich->agno) (3.0.0)\n",
            "Requirement already satisfied: pygments<3.0.0,>=2.13.0 in /usr/local/lib/python3.11/dist-packages (from rich->agno) (2.19.2)\n",
            "Requirement already satisfied: click>=8.0.0 in /usr/local/lib/python3.11/dist-packages (from typer->agno) (8.2.1)\n",
            "Requirement already satisfied: shellingham>=1.3.0 in /usr/local/lib/python3.11/dist-packages (from typer->agno) (1.5.4)\n",
            "Requirement already satisfied: smmap<6,>=3.0.1 in /usr/local/lib/python3.11/dist-packages (from gitdb<5,>=4.0.1->gitpython->agno) (5.0.2)\n",
            "Requirement already satisfied: mdurl~=0.1 in /usr/local/lib/python3.11/dist-packages (from markdown-it-py>=2.2.0->rich->agno) (0.1.2)\n",
            "Requirement already satisfied: sniffio>=1.1 in /usr/local/lib/python3.11/dist-packages (from anyio->httpx->agno) (1.3.1)\n",
            "Downloading agno-1.7.6-py3-none-any.whl (962 kB)\n",
            "\u001b[2K   \u001b[90m━━━━━━━━━━━━━━━━━━━━━━━━━━━━━━━━━━━━━━━━\u001b[0m \u001b[32m962.8/962.8 kB\u001b[0m \u001b[31m34.2 MB/s\u001b[0m eta \u001b[36m0:00:00\u001b[0m\n",
            "\u001b[?25hDownloading pydantic_settings-2.10.1-py3-none-any.whl (45 kB)\n",
            "\u001b[2K   \u001b[90m━━━━━━━━━━━━━━━━━━━━━━━━━━━━━━━━━━━━━━━━\u001b[0m \u001b[32m45.2/45.2 kB\u001b[0m \u001b[31m3.5 MB/s\u001b[0m eta \u001b[36m0:00:00\u001b[0m\n",
            "\u001b[?25hDownloading python_dotenv-1.1.1-py3-none-any.whl (20 kB)\n",
            "Downloading tomli-2.2.1-cp311-cp311-manylinux_2_17_x86_64.manylinux2014_x86_64.whl (236 kB)\n",
            "\u001b[2K   \u001b[90m━━━━━━━━━━━━━━━━━━━━━━━━━━━━━━━━━━━━━━━━\u001b[0m \u001b[32m236.0/236.0 kB\u001b[0m \u001b[31m16.6 MB/s\u001b[0m eta \u001b[36m0:00:00\u001b[0m\n",
            "\u001b[?25hInstalling collected packages: tomli, python-dotenv, pydantic-settings, agno\n",
            "Successfully installed agno-1.7.6 pydantic-settings-2.10.1 python-dotenv-1.1.1 tomli-2.2.1\n",
            "Collecting duckduckgo-search\n",
            "  Downloading duckduckgo_search-8.1.1-py3-none-any.whl.metadata (16 kB)\n",
            "Requirement already satisfied: click>=8.1.8 in /usr/local/lib/python3.11/dist-packages (from duckduckgo-search) (8.2.1)\n",
            "Collecting primp>=0.15.0 (from duckduckgo-search)\n",
            "  Downloading primp-0.15.0-cp38-abi3-manylinux_2_17_x86_64.manylinux2014_x86_64.whl.metadata (13 kB)\n",
            "Requirement already satisfied: lxml>=5.3.0 in /usr/local/lib/python3.11/dist-packages (from duckduckgo-search) (5.4.0)\n",
            "Downloading duckduckgo_search-8.1.1-py3-none-any.whl (18 kB)\n",
            "Downloading primp-0.15.0-cp38-abi3-manylinux_2_17_x86_64.manylinux2014_x86_64.whl (3.3 MB)\n",
            "\u001b[2K   \u001b[90m━━━━━━━━━━━━━━━━━━━━━━━━━━━━━━━━━━━━━━━━\u001b[0m \u001b[32m3.3/3.3 MB\u001b[0m \u001b[31m46.8 MB/s\u001b[0m eta \u001b[36m0:00:00\u001b[0m\n",
            "\u001b[?25hInstalling collected packages: primp, duckduckgo-search\n",
            "Successfully installed duckduckgo-search-8.1.1 primp-0.15.0\n",
            "Requirement already satisfied: pillow in /usr/local/lib/python3.11/dist-packages (11.3.0)\n",
            "Requirement already satisfied: gradio in /usr/local/lib/python3.11/dist-packages (5.38.2)\n",
            "Requirement already satisfied: aiofiles<25.0,>=22.0 in /usr/local/lib/python3.11/dist-packages (from gradio) (24.1.0)\n",
            "Requirement already satisfied: anyio<5.0,>=3.0 in /usr/local/lib/python3.11/dist-packages (from gradio) (4.9.0)\n",
            "Requirement already satisfied: brotli>=1.1.0 in /usr/local/lib/python3.11/dist-packages (from gradio) (1.1.0)\n",
            "Requirement already satisfied: fastapi<1.0,>=0.115.2 in /usr/local/lib/python3.11/dist-packages (from gradio) (0.116.1)\n",
            "Requirement already satisfied: ffmpy in /usr/local/lib/python3.11/dist-packages (from gradio) (0.6.1)\n",
            "Requirement already satisfied: gradio-client==1.11.0 in /usr/local/lib/python3.11/dist-packages (from gradio) (1.11.0)\n",
            "Requirement already satisfied: groovy~=0.1 in /usr/local/lib/python3.11/dist-packages (from gradio) (0.1.2)\n",
            "Requirement already satisfied: httpx<1.0,>=0.24.1 in /usr/local/lib/python3.11/dist-packages (from gradio) (0.28.1)\n",
            "Requirement already satisfied: huggingface-hub>=0.28.1 in /usr/local/lib/python3.11/dist-packages (from gradio) (0.34.1)\n",
            "Requirement already satisfied: jinja2<4.0 in /usr/local/lib/python3.11/dist-packages (from gradio) (3.1.6)\n",
            "Requirement already satisfied: markupsafe<4.0,>=2.0 in /usr/local/lib/python3.11/dist-packages (from gradio) (3.0.2)\n",
            "Requirement already satisfied: numpy<3.0,>=1.0 in /usr/local/lib/python3.11/dist-packages (from gradio) (2.0.2)\n",
            "Requirement already satisfied: orjson~=3.0 in /usr/local/lib/python3.11/dist-packages (from gradio) (3.11.1)\n",
            "Requirement already satisfied: packaging in /usr/local/lib/python3.11/dist-packages (from gradio) (25.0)\n",
            "Requirement already satisfied: pandas<3.0,>=1.0 in /usr/local/lib/python3.11/dist-packages (from gradio) (2.2.2)\n",
            "Requirement already satisfied: pillow<12.0,>=8.0 in /usr/local/lib/python3.11/dist-packages (from gradio) (11.3.0)\n",
            "Requirement already satisfied: pydantic<2.12,>=2.0 in /usr/local/lib/python3.11/dist-packages (from gradio) (2.11.7)\n",
            "Requirement already satisfied: pydub in /usr/local/lib/python3.11/dist-packages (from gradio) (0.25.1)\n",
            "Requirement already satisfied: python-multipart>=0.0.18 in /usr/local/lib/python3.11/dist-packages (from gradio) (0.0.20)\n",
            "Requirement already satisfied: pyyaml<7.0,>=5.0 in /usr/local/lib/python3.11/dist-packages (from gradio) (6.0.2)\n",
            "Requirement already satisfied: ruff>=0.9.3 in /usr/local/lib/python3.11/dist-packages (from gradio) (0.12.5)\n",
            "Requirement already satisfied: safehttpx<0.2.0,>=0.1.6 in /usr/local/lib/python3.11/dist-packages (from gradio) (0.1.6)\n",
            "Requirement already satisfied: semantic-version~=2.0 in /usr/local/lib/python3.11/dist-packages (from gradio) (2.10.0)\n",
            "Requirement already satisfied: starlette<1.0,>=0.40.0 in /usr/local/lib/python3.11/dist-packages (from gradio) (0.47.2)\n",
            "Requirement already satisfied: tomlkit<0.14.0,>=0.12.0 in /usr/local/lib/python3.11/dist-packages (from gradio) (0.13.3)\n",
            "Requirement already satisfied: typer<1.0,>=0.12 in /usr/local/lib/python3.11/dist-packages (from gradio) (0.16.0)\n",
            "Requirement already satisfied: typing-extensions~=4.0 in /usr/local/lib/python3.11/dist-packages (from gradio) (4.14.1)\n",
            "Requirement already satisfied: uvicorn>=0.14.0 in /usr/local/lib/python3.11/dist-packages (from gradio) (0.35.0)\n",
            "Requirement already satisfied: fsspec in /usr/local/lib/python3.11/dist-packages (from gradio-client==1.11.0->gradio) (2025.3.0)\n",
            "Requirement already satisfied: websockets<16.0,>=10.0 in /usr/local/lib/python3.11/dist-packages (from gradio-client==1.11.0->gradio) (15.0.1)\n",
            "Requirement already satisfied: idna>=2.8 in /usr/local/lib/python3.11/dist-packages (from anyio<5.0,>=3.0->gradio) (3.10)\n",
            "Requirement already satisfied: sniffio>=1.1 in /usr/local/lib/python3.11/dist-packages (from anyio<5.0,>=3.0->gradio) (1.3.1)\n",
            "Requirement already satisfied: certifi in /usr/local/lib/python3.11/dist-packages (from httpx<1.0,>=0.24.1->gradio) (2025.7.14)\n",
            "Requirement already satisfied: httpcore==1.* in /usr/local/lib/python3.11/dist-packages (from httpx<1.0,>=0.24.1->gradio) (1.0.9)\n",
            "Requirement already satisfied: h11>=0.16 in /usr/local/lib/python3.11/dist-packages (from httpcore==1.*->httpx<1.0,>=0.24.1->gradio) (0.16.0)\n",
            "Requirement already satisfied: filelock in /usr/local/lib/python3.11/dist-packages (from huggingface-hub>=0.28.1->gradio) (3.18.0)\n",
            "Requirement already satisfied: requests in /usr/local/lib/python3.11/dist-packages (from huggingface-hub>=0.28.1->gradio) (2.32.3)\n",
            "Requirement already satisfied: tqdm>=4.42.1 in /usr/local/lib/python3.11/dist-packages (from huggingface-hub>=0.28.1->gradio) (4.67.1)\n",
            "Requirement already satisfied: hf-xet<2.0.0,>=1.1.3 in /usr/local/lib/python3.11/dist-packages (from huggingface-hub>=0.28.1->gradio) (1.1.5)\n",
            "Requirement already satisfied: python-dateutil>=2.8.2 in /usr/local/lib/python3.11/dist-packages (from pandas<3.0,>=1.0->gradio) (2.9.0.post0)\n",
            "Requirement already satisfied: pytz>=2020.1 in /usr/local/lib/python3.11/dist-packages (from pandas<3.0,>=1.0->gradio) (2025.2)\n",
            "Requirement already satisfied: tzdata>=2022.7 in /usr/local/lib/python3.11/dist-packages (from pandas<3.0,>=1.0->gradio) (2025.2)\n",
            "Requirement already satisfied: annotated-types>=0.6.0 in /usr/local/lib/python3.11/dist-packages (from pydantic<2.12,>=2.0->gradio) (0.7.0)\n",
            "Requirement already satisfied: pydantic-core==2.33.2 in /usr/local/lib/python3.11/dist-packages (from pydantic<2.12,>=2.0->gradio) (2.33.2)\n",
            "Requirement already satisfied: typing-inspection>=0.4.0 in /usr/local/lib/python3.11/dist-packages (from pydantic<2.12,>=2.0->gradio) (0.4.1)\n",
            "Requirement already satisfied: click>=8.0.0 in /usr/local/lib/python3.11/dist-packages (from typer<1.0,>=0.12->gradio) (8.2.1)\n",
            "Requirement already satisfied: shellingham>=1.3.0 in /usr/local/lib/python3.11/dist-packages (from typer<1.0,>=0.12->gradio) (1.5.4)\n",
            "Requirement already satisfied: rich>=10.11.0 in /usr/local/lib/python3.11/dist-packages (from typer<1.0,>=0.12->gradio) (13.9.4)\n",
            "Requirement already satisfied: six>=1.5 in /usr/local/lib/python3.11/dist-packages (from python-dateutil>=2.8.2->pandas<3.0,>=1.0->gradio) (1.17.0)\n",
            "Requirement already satisfied: markdown-it-py>=2.2.0 in /usr/local/lib/python3.11/dist-packages (from rich>=10.11.0->typer<1.0,>=0.12->gradio) (3.0.0)\n",
            "Requirement already satisfied: pygments<3.0.0,>=2.13.0 in /usr/local/lib/python3.11/dist-packages (from rich>=10.11.0->typer<1.0,>=0.12->gradio) (2.19.2)\n",
            "Requirement already satisfied: charset-normalizer<4,>=2 in /usr/local/lib/python3.11/dist-packages (from requests->huggingface-hub>=0.28.1->gradio) (3.4.2)\n",
            "Requirement already satisfied: urllib3<3,>=1.21.1 in /usr/local/lib/python3.11/dist-packages (from requests->huggingface-hub>=0.28.1->gradio) (2.5.0)\n",
            "Requirement already satisfied: mdurl~=0.1 in /usr/local/lib/python3.11/dist-packages (from markdown-it-py>=2.2.0->rich>=10.11.0->typer<1.0,>=0.12->gradio) (0.1.2)\n"
          ]
        }
      ]
    },
    {
      "cell_type": "code",
      "execution_count": 2,
      "metadata": {
        "colab": {
          "base_uri": "https://localhost:8080/",
          "height": 646
        },
        "id": "E9tmQQu9aCPt",
        "outputId": "d08f77cb-e4ec-4f97-b755-08fd4ebe983b"
      },
      "outputs": [
        {
          "output_type": "stream",
          "name": "stdout",
          "text": [
            "It looks like you are running Gradio on a hosted Jupyter notebook, which requires `share=True`. Automatically setting `share=True` (you can turn this off by setting `share=False` in `launch()` explicitly).\n",
            "\n",
            "Colab notebook detected. To show errors in colab notebook, set debug=True in launch()\n",
            "* Running on public URL: https://04dc9ac7771347ee79.gradio.live\n",
            "\n",
            "This share link expires in 1 week. For free permanent hosting and GPU upgrades, run `gradio deploy` from the terminal in the working directory to deploy to Hugging Face Spaces (https://huggingface.co/spaces)\n"
          ]
        },
        {
          "output_type": "display_data",
          "data": {
            "text/plain": [
              "<IPython.core.display.HTML object>"
            ],
            "text/html": [
              "<div><iframe src=\"https://04dc9ac7771347ee79.gradio.live\" width=\"100%\" height=\"500\" allow=\"autoplay; camera; microphone; clipboard-read; clipboard-write;\" frameborder=\"0\" allowfullscreen></iframe></div>"
            ]
          },
          "metadata": {}
        },
        {
          "output_type": "execute_result",
          "data": {
            "text/plain": []
          },
          "metadata": {},
          "execution_count": 2
        }
      ],
      "source": [
        "import os\n",
        "from PIL import Image as PILImage\n",
        "from agno.agent import Agent\n",
        "from agno.models.google import Gemini\n",
        "from agno.tools.duckduckgo import DuckDuckGoTools\n",
        "from agno.media import Image as AgnoImage\n",
        "import gradio as gr\n",
        "\n",
        "# Load Google API Key\n",
        "GOOGLE_API_KEY = os.getenv(\"GOOGLE_API_KEY\")\n",
        "\n",
        "# Prompt for medical image analysis\n",
        "query = \"\"\"\n",
        "You are a highly skilled medical imaging expert with extensive knowledge in radiology and diagnostic imaging. Analyze the patient's medical image and structure your response as follows:\n",
        "\n",
        "### 1. Image Type & Region\n",
        "- Specify imaging modality (X-ray/MRI/CT/Ultrasound/etc.)\n",
        "- Identify the patient's anatomical region and positioning\n",
        "- Comment on image quality and technical adequacy\n",
        "\n",
        "### 2. Key Findings\n",
        "- List primary observations systematically\n",
        "- Note any abnormalities in the patient's imaging with precise descriptions\n",
        "- Include measurements and densities where relevant\n",
        "- Describe location, size, shape, and characteristics\n",
        "- Rate severity: Normal/Mild/Moderate/Severe\n",
        "\n",
        "### 3. Diagnostic Assessment\n",
        "- Provide primary diagnosis with confidence level\n",
        "- List differential diagnoses in order of likelihood\n",
        "- Support each diagnosis with observed evidence from the patient's imaging\n",
        "- Note any critical or urgent findings\n",
        "\n",
        "### 4. Patient-Friendly Explanation\n",
        "- Explain the findings in simple, clear language that the patient can understand\n",
        "- Avoid medical jargon or provide clear definitions\n",
        "- Include visual analogies if helpful\n",
        "- Address common patient concerns related to these findings\n",
        "\n",
        "### 5. Research Context\n",
        "IMPORTANT: Use the DuckDuckGo search tool to:\n",
        "- Find recent medical literature about similar cases\n",
        "- Search for standard treatment protocols\n",
        "- Provide a list of relevant medical links of them too\n",
        "- Research any relevant technological advances\n",
        "- Include 2-3 key references to support your analysis\n",
        "\n",
        "Format your response using clear markdown headers and bullet points. Be concise yet thorough.\n",
        "\"\"\"\n",
        "\n",
        "# Image analysis function\n",
        "def analyze_medical_image(api_key, image_np):\n",
        "    if not api_key:\n",
        "        return \"❌ Please provide a valid Google API key.\"\n",
        "\n",
        "    # Initialize the agent\n",
        "    agent = Agent(\n",
        "        model=Gemini(id=\"gemini-2.0-flash\", api_key=api_key),\n",
        "        tools=[DuckDuckGoTools()],\n",
        "        markdown=True\n",
        "    )\n",
        "\n",
        "    # Resize image\n",
        "    img = PILImage.fromarray(image_np)\n",
        "    img = img.resize((500, int(500 / img.width * img.height)))\n",
        "    temp_path = \"temp_image.png\"\n",
        "    img.save(temp_path)\n",
        "\n",
        "\n",
        "    # Analyze with Gemini + DuckDuckGo\n",
        "    agno_img = AgnoImage(filepath=temp_path)\n",
        "    result = agent.run(query, images=[agno_img])\n",
        "\n",
        "    return result.content\n",
        "\n",
        "\n",
        "# Gradio UI\n",
        "with gr.Blocks() as demo:\n",
        "    gr.Markdown(\"## 🏥 Medical Imaging Diagnosis Agent\")\n",
        "    gr.Markdown(\"Upload a medical image to receive an AI-generated analysis report.\\n\\n⚠️ **Disclaimer:** Educational use only. Not a clinical diagnosis tool.\")\n",
        "\n",
        "    api_input = gr.Textbox(label=\"🔑 Google API Key\", type=\"password\", placeholder=\"Paste your API key\")\n",
        "    image_input = gr.Image(label=\"🖼️ Upload Medical Image\", type=\"numpy\")\n",
        "    analyze_button = gr.Button(\"🔍 Analyze\")\n",
        "    output_md = gr.Markdown()\n",
        "\n",
        "    analyze_button.click(analyze_medical_image, inputs=[api_input, image_input], outputs=output_md)\n",
        "\n",
        "demo.launch()"
      ]
    },
    {
      "cell_type": "code",
      "source": [
        "!pip install agno\n",
        "!pip install duckduckgo-search"
      ],
      "metadata": {
        "colab": {
          "base_uri": "https://localhost:8080/"
        },
        "id": "hUSzz2xDUxA_",
        "outputId": "eff7d421-d771-4f45-d80f-3e2f11a0647c"
      },
      "execution_count": null,
      "outputs": [
        {
          "output_type": "stream",
          "name": "stdout",
          "text": [
            "Requirement already satisfied: agno in /usr/local/lib/python3.11/dist-packages (1.7.3)\n",
            "Requirement already satisfied: docstring-parser in /usr/local/lib/python3.11/dist-packages (from agno) (0.16)\n",
            "Requirement already satisfied: gitpython in /usr/local/lib/python3.11/dist-packages (from agno) (3.1.44)\n",
            "Requirement already satisfied: httpx in /usr/local/lib/python3.11/dist-packages (from agno) (0.28.1)\n",
            "Requirement already satisfied: pydantic-settings in /usr/local/lib/python3.11/dist-packages (from agno) (2.10.1)\n",
            "Requirement already satisfied: pydantic in /usr/local/lib/python3.11/dist-packages (from agno) (2.11.7)\n",
            "Requirement already satisfied: python-dotenv in /usr/local/lib/python3.11/dist-packages (from agno) (1.1.1)\n",
            "Requirement already satisfied: python-multipart in /usr/local/lib/python3.11/dist-packages (from agno) (0.0.20)\n",
            "Requirement already satisfied: pyyaml in /usr/local/lib/python3.11/dist-packages (from agno) (6.0.2)\n",
            "Requirement already satisfied: rich in /usr/local/lib/python3.11/dist-packages (from agno) (13.9.4)\n",
            "Requirement already satisfied: tomli in /usr/local/lib/python3.11/dist-packages (from agno) (2.2.1)\n",
            "Requirement already satisfied: typer in /usr/local/lib/python3.11/dist-packages (from agno) (0.16.0)\n",
            "Requirement already satisfied: typing-extensions in /usr/local/lib/python3.11/dist-packages (from agno) (4.14.1)\n",
            "Requirement already satisfied: gitdb<5,>=4.0.1 in /usr/local/lib/python3.11/dist-packages (from gitpython->agno) (4.0.12)\n",
            "Requirement already satisfied: anyio in /usr/local/lib/python3.11/dist-packages (from httpx->agno) (4.9.0)\n",
            "Requirement already satisfied: certifi in /usr/local/lib/python3.11/dist-packages (from httpx->agno) (2025.7.9)\n",
            "Requirement already satisfied: httpcore==1.* in /usr/local/lib/python3.11/dist-packages (from httpx->agno) (1.0.9)\n",
            "Requirement already satisfied: idna in /usr/local/lib/python3.11/dist-packages (from httpx->agno) (3.10)\n",
            "Requirement already satisfied: h11>=0.16 in /usr/local/lib/python3.11/dist-packages (from httpcore==1.*->httpx->agno) (0.16.0)\n",
            "Requirement already satisfied: annotated-types>=0.6.0 in /usr/local/lib/python3.11/dist-packages (from pydantic->agno) (0.7.0)\n",
            "Requirement already satisfied: pydantic-core==2.33.2 in /usr/local/lib/python3.11/dist-packages (from pydantic->agno) (2.33.2)\n",
            "Requirement already satisfied: typing-inspection>=0.4.0 in /usr/local/lib/python3.11/dist-packages (from pydantic->agno) (0.4.1)\n",
            "Requirement already satisfied: markdown-it-py>=2.2.0 in /usr/local/lib/python3.11/dist-packages (from rich->agno) (3.0.0)\n",
            "Requirement already satisfied: pygments<3.0.0,>=2.13.0 in /usr/local/lib/python3.11/dist-packages (from rich->agno) (2.19.2)\n",
            "Requirement already satisfied: click>=8.0.0 in /usr/local/lib/python3.11/dist-packages (from typer->agno) (8.2.1)\n",
            "Requirement already satisfied: shellingham>=1.3.0 in /usr/local/lib/python3.11/dist-packages (from typer->agno) (1.5.4)\n",
            "Requirement already satisfied: smmap<6,>=3.0.1 in /usr/local/lib/python3.11/dist-packages (from gitdb<5,>=4.0.1->gitpython->agno) (5.0.2)\n",
            "Requirement already satisfied: mdurl~=0.1 in /usr/local/lib/python3.11/dist-packages (from markdown-it-py>=2.2.0->rich->agno) (0.1.2)\n",
            "Requirement already satisfied: sniffio>=1.1 in /usr/local/lib/python3.11/dist-packages (from anyio->httpx->agno) (1.3.1)\n",
            "Requirement already satisfied: duckduckgo-search in /usr/local/lib/python3.11/dist-packages (8.1.1)\n",
            "Requirement already satisfied: click>=8.1.8 in /usr/local/lib/python3.11/dist-packages (from duckduckgo-search) (8.2.1)\n",
            "Requirement already satisfied: primp>=0.15.0 in /usr/local/lib/python3.11/dist-packages (from duckduckgo-search) (0.15.0)\n",
            "Requirement already satisfied: lxml>=5.3.0 in /usr/local/lib/python3.11/dist-packages (from duckduckgo-search) (5.4.0)\n"
          ]
        }
      ]
    },
    {
      "cell_type": "code",
      "source": [
        "import os\n",
        "from agno.agent import Agent\n",
        "from agno.models.google import Gemini\n",
        "from agno.tools.duckduckgo import DuckDuckGoTools\n",
        "import gradio as gr\n",
        "\n",
        "# Load Google API Key\n",
        "GOOGLE_API_KEY = os.getenv(\"GOOGLE_API_KEY\")\n",
        "\n",
        "# Assistant prompt\n",
        "assistant_prompt = \"\"\"\n",
        "You are an intelligent, friendly, and highly skilled personal assistant who helps users manage their daily tasks, knowledge, productivity, and general inquiries. Respond in a professional, friendly, and concise tone. Use markdown formatting.\n",
        "\n",
        "### 🧾 1. Task Understanding\n",
        "- Clarify the user's goal or request.\n",
        "- Rephrase it briefly in your own words.\n",
        "- Ask for clarifications if needed.\n",
        "\n",
        "### ✅ 2. Solution / Response\n",
        "- Provide the most accurate and helpful response.\n",
        "- Use bullet points or steps where appropriate.\n",
        "- Offer suggestions, alternatives, or actions.\n",
        "- If the request includes a topic or query, perform a DuckDuckGo search to:\n",
        "  - Retrieve the most relevant, recent, and authoritative information.\n",
        "  - Include 2–3 links with brief descriptions.\n",
        "\n",
        "### 🧘 3. Friendly Summary\n",
        "- End with a short, friendly message or suggestion for next steps.\n",
        "- Keep the tone light, warm, and encouraging.\n",
        "\"\"\"\n",
        "\n",
        "# Assistant function (without try-except)\n",
        "def personal_assistant(api_key, user_input):\n",
        "    if not api_key:\n",
        "        return \"❌ Please provide a valid Google API key.\"\n",
        "\n",
        "    agent = Agent(\n",
        "        model=Gemini(id=\"gemini-2.0-flash\", api_key=api_key),\n",
        "        tools=[DuckDuckGoTools()],\n",
        "        markdown=True\n",
        "    )\n",
        "\n",
        "    full_prompt = f\"{assistant_prompt}\\n\\nUser Request: {user_input}\"\n",
        "    result = agent.run(full_prompt)\n",
        "    return result.content\n",
        "\n",
        "# Gradio UI\n",
        "with gr.Blocks() as demo:\n",
        "    gr.Markdown(\"## 🤖 Your AI Personal Assistant\")\n",
        "    gr.Markdown(\"Ask me anything — from tasks, productivity tips, summaries, general questions, or tech help.\\n\\n📝 **Example prompts:**\\n- Plan my day with 3 tasks\\n- What are the latest AI tools?\\n- Summarize https://... \\n- Draft an email to my boss\")\n",
        "\n",
        "    api_input = gr.Textbox(label=\"🔑 Google API Key\", type=\"password\", placeholder=\"Paste your API key\")\n",
        "    text_input = gr.Textbox(label=\"💬 Ask me anything\", placeholder=\"e.g. Summarize today's top tech news...\")\n",
        "    submit_button = gr.Button(\"🚀 Ask Assistant\")\n",
        "    output_md = gr.Markdown()\n",
        "\n",
        "    submit_button.click(personal_assistant, inputs=[api_input, text_input], outputs=output_md)\n",
        "\n",
        "demo.launch()"
      ],
      "metadata": {
        "colab": {
          "base_uri": "https://localhost:8080/",
          "height": 645
        },
        "id": "TmSAurlmUnbJ",
        "outputId": "2c2957bd-c4dc-4700-e65d-226e5f3988ae"
      },
      "execution_count": null,
      "outputs": [
        {
          "output_type": "stream",
          "name": "stdout",
          "text": [
            "It looks like you are running Gradio on a hosted a Jupyter notebook. For the Gradio app to work, sharing must be enabled. Automatically setting `share=True` (you can turn this off by setting `share=False` in `launch()` explicitly).\n",
            "\n",
            "Colab notebook detected. To show errors in colab notebook, set debug=True in launch()\n",
            "* Running on public URL: https://bef10897834849c381.gradio.live\n",
            "\n",
            "This share link expires in 1 week. For free permanent hosting and GPU upgrades, run `gradio deploy` from the terminal in the working directory to deploy to Hugging Face Spaces (https://huggingface.co/spaces)\n"
          ]
        },
        {
          "output_type": "display_data",
          "data": {
            "text/plain": [
              "<IPython.core.display.HTML object>"
            ],
            "text/html": [
              "<div><iframe src=\"https://bef10897834849c381.gradio.live\" width=\"100%\" height=\"500\" allow=\"autoplay; camera; microphone; clipboard-read; clipboard-write;\" frameborder=\"0\" allowfullscreen></iframe></div>"
            ]
          },
          "metadata": {}
        },
        {
          "output_type": "execute_result",
          "data": {
            "text/plain": []
          },
          "metadata": {},
          "execution_count": 4
        }
      ]
    },
    {
      "cell_type": "code",
      "source": [
        "import os\n",
        "from agno.agent import Agent\n",
        "from agno.models.google import Gemini\n",
        "from agno.tools.duckduckgo import DuckDuckGoTools"
      ],
      "metadata": {
        "id": "Q1wvv2a7FVCO"
      },
      "execution_count": null,
      "outputs": []
    },
    {
      "cell_type": "code",
      "source": [
        "def personal_assistant(api_key, user_input):\n",
        "    if not api_key:\n",
        "      return \"❌ Please provide a valid Google API key.\"\n",
        "    agent=Agent(\n",
        "        model=Gemini(id=\"gemini-2.0-flash\", api_key=api_key),\n",
        "        tools=[DuckDuckGoTools()],\n",
        "        markdown=True\n",
        "    )\n",
        "\n",
        "    Img=PILImage.fromarray(image_np)\n",
        "    Img=Img.resize((500, int(500/Img.width*Img.height)))\n",
        "    temp_path=\"temp_image.png\"\n",
        "    Img.save(temp_path)\n",
        "\n",
        "    agno_img=AgnoImage(filepath=temp_path)\n",
        "    result=agent.run(user_input, images=[agno_img])\n",
        "    return result.content\n",
        "\n",
        "with gr.Blocks() as demo:\n",
        "  gr.Markdown()\n",
        "\n",
        "\n"
      ],
      "metadata": {
        "colab": {
          "base_uri": "https://localhost:8080/",
          "height": 106
        },
        "id": "6mSSr4GHFX59",
        "outputId": "9b73618a-2c65-4d6a-da96-c3157a8f04ff"
      },
      "execution_count": null,
      "outputs": [
        {
          "output_type": "error",
          "ename": "SyntaxError",
          "evalue": "expected ':' (ipython-input-6-1298197201.py, line 4)",
          "traceback": [
            "\u001b[0;36m  File \u001b[0;32m\"/tmp/ipython-input-6-1298197201.py\"\u001b[0;36m, line \u001b[0;32m4\u001b[0m\n\u001b[0;31m    def personal(api_key,)\u001b[0m\n\u001b[0m                          ^\u001b[0m\n\u001b[0;31mSyntaxError\u001b[0m\u001b[0;31m:\u001b[0m expected ':'\n"
          ]
        }
      ]
    },
    {
      "cell_type": "code",
      "source": [
        "pip install duckduckgo-search"
      ],
      "metadata": {
        "id": "0dYw-emxVTaC"
      },
      "execution_count": null,
      "outputs": []
    },
    {
      "cell_type": "markdown",
      "source": [
        "## Personal Agent"
      ],
      "metadata": {
        "id": "Z9e1s2SUUp56"
      }
    },
    {
      "cell_type": "code",
      "source": [],
      "metadata": {
        "id": "_qoKCNtsSF28"
      },
      "execution_count": null,
      "outputs": []
    },
    {
      "cell_type": "markdown",
      "source": [
        "## Weather App"
      ],
      "metadata": {
        "id": "esexN27IONU4"
      }
    },
    {
      "cell_type": "code",
      "source": [
        "import os\n",
        "import requests\n",
        "import gradio as gr\n",
        "from agno.agent import Agent\n",
        "from agno.models.google import Gemini\n",
        "from agno.tools.duckduckgo import DuckDuckGoTools\n",
        "\n",
        "# 🌤️ Weather summary template\n",
        "PROMPT_TEMPLATE = \"\"\"\n",
        "You are a weather analyst. Based on real-time weather in **{location}**, write a detailed weather report:\n",
        "\n",
        "### 1. Current Weather\n",
        "- Temperature: {temperature}°C\n",
        "- Wind Speed: {windspeed} km/h\n",
        "- Humidity: {humidity}%\n",
        "- Sky: {description}\n",
        "\n",
        "### 2. Recommendations\n",
        "- What should a person wear?\n",
        "- Precautions to take based on weather?\n",
        "\n",
        "### 3. Patient-Friendly Insight\n",
        "Explain the weather conditions in simple terms and how it affects daily life.\n",
        "\n",
        "### 4. Add 2–3 helpful weather websites using DuckDuckGo.\n",
        "\"\"\"\n",
        "\n",
        "# Open-Meteo weather code meanings\n",
        "WEATHER_CODES = {\n",
        "    0: \"Clear sky\", 1: \"Mainly clear\", 2: \"Partly cloudy\", 3: \"Overcast\",\n",
        "    45: \"Fog\", 48: \"Rime fog\", 51: \"Light drizzle\", 53: \"Moderate drizzle\",\n",
        "    61: \"Light rain\", 63: \"Moderate rain\", 65: \"Heavy rain\",\n",
        "    71: \"Light snow\", 73: \"Moderate snow\", 75: \"Heavy snow\",\n",
        "    80: \"Rain showers\", 81: \"Heavy rain showers\",\n",
        "    95: \"Thunderstorm\", 99: \"Severe thunderstorm\"\n",
        "}\n",
        "\n",
        "# 🌍 Get coordinates for a city\n",
        "def get_coords(city):\n",
        "    url = f\"https://geocoding-api.open-meteo.com/v1/search?name={city}&count=1\"\n",
        "    res = requests.get(url).json()\n",
        "    if res.get(\"results\"):\n",
        "        return res[\"results\"][0][\"latitude\"], res[\"results\"][0][\"longitude\"]\n",
        "    return None, None\n",
        "\n",
        "# 🌦️ Get weather data from Open-Meteo\n",
        "def get_weather(lat, lon):\n",
        "    url = f\"https://api.open-meteo.com/v1/forecast?latitude={lat}&longitude={lon}&current=temperature_2m,relative_humidity_2m,windspeed_10m,weathercode&timezone=auto\"\n",
        "    return requests.get(url).json().get(\"current\", {})\n",
        "\n",
        "# 🔍 Weather Analysis Function\n",
        "def analyze_weather(api_key, city):\n",
        "    if not api_key:\n",
        "        return \"❌ Google API Key is missing.\"\n",
        "    if not city.strip():\n",
        "        return \"❌ Please enter a valid city name.\"\n",
        "\n",
        "    try:\n",
        "        lat, lon = get_coords(city)\n",
        "        if not lat:\n",
        "            return \"❌ City not found.\"\n",
        "\n",
        "        weather = get_weather(lat, lon)\n",
        "        desc = WEATHER_CODES.get(weather.get(\"weathercode\", 0), \"Unknown\")\n",
        "\n",
        "        # Format prompt\n",
        "        prompt = PROMPT_TEMPLATE.format(\n",
        "            location=city.title(),\n",
        "            temperature=weather.get(\"temperature_2m\", \"N/A\"),\n",
        "            windspeed=weather.get(\"windspeed_10m\", \"N/A\"),\n",
        "            humidity=weather.get(\"relative_humidity_2m\", \"N/A\"),\n",
        "            description=desc\n",
        "        )\n",
        "\n",
        "        agent = Agent(\n",
        "            model=Gemini(id=\"gemini-1.5-flash\", api_key=api_key),\n",
        "            tools=[DuckDuckGoTools()],\n",
        "            markdown=True\n",
        "        )\n",
        "\n",
        "        return agent.run(prompt).content\n",
        "\n",
        "    except Exception as e:\n",
        "        return f\"❌ Error: {e}\"\n",
        "\n",
        "# 🚀 Gradio App UI\n",
        "with gr.Blocks() as demo:\n",
        "    gr.Markdown(\"## 🌦️ AI Weather Reporter\")\n",
        "    gr.Markdown(\"Get live weather updates + AI analysis (powered by Open-Meteo + Gemini)\\n⚠️ For demo use only.\")\n",
        "\n",
        "    api_key = gr.Textbox(label=\"🔐 Google API Key\", type=\"password\")\n",
        "    city_name = gr.Textbox(label=\"📍 City Name\", placeholder=\"e.g., Bengaluru, London\")\n",
        "    analyze_btn = gr.Button(\"🔍 Analyze Weather\")\n",
        "    output = gr.Markdown()\n",
        "\n",
        "    analyze_btn.click(analyze_weather, inputs=[api_key, city_name], outputs=output)\n",
        "\n",
        "demo.launch()\n"
      ],
      "metadata": {
        "id": "lAIKuct6jYgu"
      },
      "execution_count": null,
      "outputs": []
    }
  ]
}